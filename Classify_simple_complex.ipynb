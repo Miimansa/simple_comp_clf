{
 "cells": [
  {
   "cell_type": "markdown",
   "id": "mPoy4wvE61B9",
   "metadata": {
    "id": "mPoy4wvE61B9"
   },
   "source": [
    "# Classify sentences as simple/complex"
   ]
  },
  {
   "cell_type": "markdown",
   "id": "ca919c19-1ee8-4355-a9f8-05377d30c966",
   "metadata": {
    "id": "ca919c19-1ee8-4355-a9f8-05377d30c966"
   },
   "source": [
    "# Import Libraries"
   ]
  },
  {
   "cell_type": "code",
   "execution_count": 1,
   "id": "rQol4537J12j",
   "metadata": {
    "id": "rQol4537J12j"
   },
   "outputs": [],
   "source": [
    "import numpy as np\n",
    "import pandas as pd\n",
    "import matplotlib.pyplot as plt\n",
    "import seaborn as sns\n",
    "\n",
    "from sklearn.model_selection import train_test_split, GridSearchCV, cross_val_score, StratifiedKFold\n",
    "from sklearn.ensemble import RandomForestClassifier,GradientBoostingClassifier,VotingClassifier\n",
    "from sklearn.neighbors import KNeighborsClassifier\n",
    "\n",
    "from sklearn.metrics import accuracy_score, precision_score, recall_score, roc_auc_score\n",
    "from sklearn.metrics import f1_score,precision_recall_curve, classification_report,roc_curve\n",
    "\n",
    "from sklearn.manifold import MDS\n",
    "from sklearn.metrics.pairwise import cosine_similarity\n",
    "\n",
    "import os"
   ]
  },
  {
   "cell_type": "code",
   "execution_count": 2,
   "id": "194f22ae-205e-4eab-b894-ee00c2a5b1bb",
   "metadata": {
    "colab": {
     "base_uri": "https://localhost:8080/"
    },
    "id": "194f22ae-205e-4eab-b894-ee00c2a5b1bb",
    "outputId": "f1b853a2-09e0-40b0-f424-1f22f8e4c318"
   },
   "outputs": [
    {
     "name": "stderr",
     "output_type": "stream",
     "text": [
      "[nltk_data] Downloading package punkt to /home/shreya/nltk_data...\n",
      "[nltk_data]   Unzipping tokenizers/punkt.zip.\n",
      "[nltk_data] Downloading package stopwords to /home/shreya/nltk_data...\n",
      "[nltk_data]   Unzipping corpora/stopwords.zip.\n"
     ]
    }
   ],
   "source": [
    "from sklearn.linear_model import LogisticRegression\n",
    "from sklearn.feature_extraction.text import TfidfVectorizer\n",
    "# text preprocessing lib\n",
    "import nltk\n",
    "# Step 1: word_tokenize\n",
    "from nltk.tokenize import word_tokenize\n",
    "nltk.download('punkt')\n",
    "# Step 2: stop_words removal\n",
    "from nltk.corpus import stopwords\n",
    "nltk.download('stopwords')\n",
    "stopwords = stopwords.words('english')\n",
    "#Step 3: stemming\n",
    "from nltk.stem import SnowballStemmer"
   ]
  },
  {
   "cell_type": "markdown",
   "id": "1jNCOttJGP4X",
   "metadata": {
    "id": "1jNCOttJGP4X"
   },
   "source": [
    "# Read data"
   ]
  },
  {
   "cell_type": "code",
   "execution_count": 3,
   "id": "8oQCWaaV9stR",
   "metadata": {
    "id": "8oQCWaaV9stR"
   },
   "outputs": [],
   "source": [
    "current_directory = os.getcwd()"
   ]
  },
  {
   "cell_type": "code",
   "execution_count": 5,
   "id": "1QetTu3IJ4sG",
   "metadata": {
    "id": "1QetTu3IJ4sG"
   },
   "outputs": [],
   "source": [
    "train = pd.read_csv(current_directory+'/data_files/train.csv')"
   ]
  },
  {
   "cell_type": "code",
   "execution_count": 6,
   "id": "haHNVlvTFwW8",
   "metadata": {
    "id": "haHNVlvTFwW8"
   },
   "outputs": [],
   "source": [
    "X = train['inc_clean']\n",
    "y = train['complex']"
   ]
  },
  {
   "cell_type": "code",
   "execution_count": 7,
   "id": "yVzayvNXr_Od",
   "metadata": {
    "colab": {
     "base_uri": "https://localhost:8080/"
    },
    "id": "yVzayvNXr_Od",
    "outputId": "c046affc-f176-49e4-9ef0-1365d58b43aa"
   },
   "outputs": [
    {
     "data": {
      "text/plain": [
       "0    290\n",
       "1     75\n",
       "Name: complex, dtype: int64"
      ]
     },
     "execution_count": 7,
     "metadata": {},
     "output_type": "execute_result"
    }
   ],
   "source": [
    "train.complex.value_counts()"
   ]
  },
  {
   "cell_type": "markdown",
   "id": "qx1GK3DWGRms",
   "metadata": {
    "id": "qx1GK3DWGRms"
   },
   "source": [
    "# Split"
   ]
  },
  {
   "cell_type": "code",
   "execution_count": 9,
   "id": "SB_qT7CyGSyq",
   "metadata": {
    "id": "SB_qT7CyGSyq"
   },
   "outputs": [],
   "source": [
    "X_train, X_test, y_train, y_test = train_test_split(X, y.values, test_size=0.2, stratify=y, random_state=42)"
   ]
  },
  {
   "cell_type": "markdown",
   "id": "1UVHu1lSGK9x",
   "metadata": {
    "id": "1UVHu1lSGK9x"
   },
   "source": [
    "# Text - Preprocess"
   ]
  },
  {
   "cell_type": "code",
   "execution_count": 10,
   "id": "JXBd6IpVG0KU",
   "metadata": {
    "id": "JXBd6IpVG0KU"
   },
   "outputs": [],
   "source": [
    "def text_preprocessor(text):\n",
    "  return [SnowballStemmer(language='english').stem(word) for word in word_tokenize(text) if word not in stopwords]"
   ]
  },
  {
   "cell_type": "markdown",
   "id": "QZOEbFWqH5oZ",
   "metadata": {
    "id": "QZOEbFWqH5oZ"
   },
   "source": [
    "### Convert to tf-idf vectors"
   ]
  },
  {
   "cell_type": "code",
   "execution_count": 11,
   "id": "68o6Bw2JH9Fe",
   "metadata": {
    "id": "68o6Bw2JH9Fe"
   },
   "outputs": [],
   "source": [
    "vectorizer = TfidfVectorizer(lowercase=True,\n",
    "                             tokenizer=text_preprocessor,\n",
    "                             max_features=1000)"
   ]
  },
  {
   "cell_type": "code",
   "execution_count": 12,
   "id": "QxQ1Q9mrI2KH",
   "metadata": {
    "colab": {
     "base_uri": "https://localhost:8080/",
     "height": 149
    },
    "id": "QxQ1Q9mrI2KH",
    "outputId": "e4f52156-5914-49dc-8a9a-0b8dd5e49523"
   },
   "outputs": [
    {
     "name": "stderr",
     "output_type": "stream",
     "text": [
      "/usr/local/lib/python3.10/dist-packages/sklearn/feature_extraction/text.py:525: UserWarning: The parameter 'token_pattern' will not be used since 'tokenizer' is not None'\n",
      "  warnings.warn(\n"
     ]
    },
    {
     "data": {
      "text/html": [
       "<style>#sk-container-id-1 {color: black;}#sk-container-id-1 pre{padding: 0;}#sk-container-id-1 div.sk-toggleable {background-color: white;}#sk-container-id-1 label.sk-toggleable__label {cursor: pointer;display: block;width: 100%;margin-bottom: 0;padding: 0.3em;box-sizing: border-box;text-align: center;}#sk-container-id-1 label.sk-toggleable__label-arrow:before {content: \"▸\";float: left;margin-right: 0.25em;color: #696969;}#sk-container-id-1 label.sk-toggleable__label-arrow:hover:before {color: black;}#sk-container-id-1 div.sk-estimator:hover label.sk-toggleable__label-arrow:before {color: black;}#sk-container-id-1 div.sk-toggleable__content {max-height: 0;max-width: 0;overflow: hidden;text-align: left;background-color: #f0f8ff;}#sk-container-id-1 div.sk-toggleable__content pre {margin: 0.2em;color: black;border-radius: 0.25em;background-color: #f0f8ff;}#sk-container-id-1 input.sk-toggleable__control:checked~div.sk-toggleable__content {max-height: 200px;max-width: 100%;overflow: auto;}#sk-container-id-1 input.sk-toggleable__control:checked~label.sk-toggleable__label-arrow:before {content: \"▾\";}#sk-container-id-1 div.sk-estimator input.sk-toggleable__control:checked~label.sk-toggleable__label {background-color: #d4ebff;}#sk-container-id-1 div.sk-label input.sk-toggleable__control:checked~label.sk-toggleable__label {background-color: #d4ebff;}#sk-container-id-1 input.sk-hidden--visually {border: 0;clip: rect(1px 1px 1px 1px);clip: rect(1px, 1px, 1px, 1px);height: 1px;margin: -1px;overflow: hidden;padding: 0;position: absolute;width: 1px;}#sk-container-id-1 div.sk-estimator {font-family: monospace;background-color: #f0f8ff;border: 1px dotted black;border-radius: 0.25em;box-sizing: border-box;margin-bottom: 0.5em;}#sk-container-id-1 div.sk-estimator:hover {background-color: #d4ebff;}#sk-container-id-1 div.sk-parallel-item::after {content: \"\";width: 100%;border-bottom: 1px solid gray;flex-grow: 1;}#sk-container-id-1 div.sk-label:hover label.sk-toggleable__label {background-color: #d4ebff;}#sk-container-id-1 div.sk-serial::before {content: \"\";position: absolute;border-left: 1px solid gray;box-sizing: border-box;top: 0;bottom: 0;left: 50%;z-index: 0;}#sk-container-id-1 div.sk-serial {display: flex;flex-direction: column;align-items: center;background-color: white;padding-right: 0.2em;padding-left: 0.2em;position: relative;}#sk-container-id-1 div.sk-item {position: relative;z-index: 1;}#sk-container-id-1 div.sk-parallel {display: flex;align-items: stretch;justify-content: center;background-color: white;position: relative;}#sk-container-id-1 div.sk-item::before, #sk-container-id-1 div.sk-parallel-item::before {content: \"\";position: absolute;border-left: 1px solid gray;box-sizing: border-box;top: 0;bottom: 0;left: 50%;z-index: -1;}#sk-container-id-1 div.sk-parallel-item {display: flex;flex-direction: column;z-index: 1;position: relative;background-color: white;}#sk-container-id-1 div.sk-parallel-item:first-child::after {align-self: flex-end;width: 50%;}#sk-container-id-1 div.sk-parallel-item:last-child::after {align-self: flex-start;width: 50%;}#sk-container-id-1 div.sk-parallel-item:only-child::after {width: 0;}#sk-container-id-1 div.sk-dashed-wrapped {border: 1px dashed gray;margin: 0 0.4em 0.5em 0.4em;box-sizing: border-box;padding-bottom: 0.4em;background-color: white;}#sk-container-id-1 div.sk-label label {font-family: monospace;font-weight: bold;display: inline-block;line-height: 1.2em;}#sk-container-id-1 div.sk-label-container {text-align: center;}#sk-container-id-1 div.sk-container {/* jupyter's `normalize.less` sets `[hidden] { display: none; }` but bootstrap.min.css set `[hidden] { display: none !important; }` so we also need the `!important` here to be able to override the default hidden behavior on the sphinx rendered scikit-learn.org. See: https://github.com/scikit-learn/scikit-learn/issues/21755 */display: inline-block !important;position: relative;}#sk-container-id-1 div.sk-text-repr-fallback {display: none;}</style><div id=\"sk-container-id-1\" class=\"sk-top-container\"><div class=\"sk-text-repr-fallback\"><pre>TfidfVectorizer(max_features=1000,\n",
       "                tokenizer=&lt;function text_preprocessor at 0x7fab018ad510&gt;)</pre><b>In a Jupyter environment, please rerun this cell to show the HTML representation or trust the notebook. <br />On GitHub, the HTML representation is unable to render, please try loading this page with nbviewer.org.</b></div><div class=\"sk-container\" hidden><div class=\"sk-item\"><div class=\"sk-estimator sk-toggleable\"><input class=\"sk-toggleable__control sk-hidden--visually\" id=\"sk-estimator-id-1\" type=\"checkbox\" checked><label for=\"sk-estimator-id-1\" class=\"sk-toggleable__label sk-toggleable__label-arrow\">TfidfVectorizer</label><div class=\"sk-toggleable__content\"><pre>TfidfVectorizer(max_features=1000,\n",
       "                tokenizer=&lt;function text_preprocessor at 0x7fab018ad510&gt;)</pre></div></div></div></div></div>"
      ],
      "text/plain": [
       "TfidfVectorizer(max_features=1000,\n",
       "                tokenizer=<function text_preprocessor at 0x7fab018ad510>)"
      ]
     },
     "execution_count": 12,
     "metadata": {},
     "output_type": "execute_result"
    }
   ],
   "source": [
    "vectorizer.fit(X_train.values)"
   ]
  },
  {
   "cell_type": "code",
   "execution_count": 13,
   "id": "csPJlfAgJYJ1",
   "metadata": {
    "colab": {
     "base_uri": "https://localhost:8080/"
    },
    "id": "csPJlfAgJYJ1",
    "outputId": "a0afeccb-2777-40e7-ac68-651ed754353f"
   },
   "outputs": [
    {
     "name": "stdout",
     "output_type": "stream",
     "text": [
      "CPU times: user 185 ms, sys: 6.23 ms, total: 191 ms\n",
      "Wall time: 194 ms\n"
     ]
    }
   ],
   "source": [
    "%%time\n",
    "X_train = vectorizer.transform(X_train)\n",
    "X_test = vectorizer.transform(X_test)"
   ]
  },
  {
   "cell_type": "code",
   "execution_count": 14,
   "id": "Hi-hrev-KWK4",
   "metadata": {
    "colab": {
     "base_uri": "https://localhost:8080/"
    },
    "id": "Hi-hrev-KWK4",
    "outputId": "fba1a0e5-842a-459b-c809-3bdc306e6a97"
   },
   "outputs": [
    {
     "data": {
      "text/plain": [
       "array(['%', \"'s\", '(', ')', '*', '+', '+100', ',', '-', '.', '/', '/=',\n",
       "       '/=500', '/=750', '/aspart', '/li', '/ol', '/p', '/ul', '0', '0-1',\n",
       "       '0-2', '0-3', '0.01', '0.5', '0.7×10^9/l', '1', '1+', '1,000/μl',\n",
       "       '1.0', '1.5', '1.5×upper', '10', '12', '14', '15', '16', '18',\n",
       "       '18-70', '2', '2.0', '2.5', '20', '20kg', '21', '24', '25',\n",
       "       '25,000/microlit', '250', '2500c/ml', '26', '28', '2x', '3', '3+',\n",
       "       '30', '34.2', '3cm', '3month', '3x', '4', '40', '45', '5', '5/ul',\n",
       "       '50', '500', '50×10^9/l', '56', '5×upper', '6', '6-', '6.',\n",
       "       '6.5mg/dl', '60', '65', '7', '7.0', '70', '72', '75', '75,000/μl',\n",
       "       '8', '8.0', '80', '9', '9.0g/dl', '90', '91', ':', ';', '<', '=',\n",
       "       '=0.4', '=12', '=60', '>', '[', ']', '^', 'a.', 'abil', 'abl',\n",
       "       'abnorm', 'absenc', 'absolut', 'abstin', 'accept', 'access',\n",
       "       'accid', 'accord', 'acheiv', 'achiev', 'acquisit', 'activ', 'acut',\n",
       "       'addit', 'adenocarcinoma', 'adequ', 'adgre2', 'adjud', 'administr',\n",
       "       'adult', 'advanc', 'affili', 'afr', 'age', 'agent', 'aggress',\n",
       "       'agre', 'agreement', 'air', 'alanin', 'alb', 'albumin/creatinin',\n",
       "       'alc≥0.3×10^9/l', 'algorithm', 'alkalin', 'allo-', 'allogen',\n",
       "       'allow', 'also', 'alt', 'alt/', 'alt/ast', 'altern', 'alt≤3uln',\n",
       "       'amenorrho', 'aminotransferas', 'aml', 'amplif', 'amylas',\n",
       "       'analysi', 'anaplast', 'anc', 'anc≥0.75×10^9/l', 'and/or',\n",
       "       'anonym', 'anti', 'anti-', 'anti-cd19', 'anti-cd19/20/22',\n",
       "       'anti-pd-1', 'anti-pd-1/pd-l1', 'antibodi', 'anticanc', 'anticip',\n",
       "       'antigen', 'apheresi', 'applic', 'appropri', 'approv', 'aptt',\n",
       "       'ar', 'archiv', 'arm', 'aspart', 'assent', 'assess', 'associ',\n",
       "       'ast', 'ast/alt', 'ast≤3uln', 'attend', 'author', 'autolog',\n",
       "       'avail', 'avoid', 'axicabtagen', 'b', 'b-all', 'b-cell',\n",
       "       'b-non-hodgkin', 'b.', 'b.angioimmunoblast', 'barr', 'barrier',\n",
       "       'baselin', 'bcma', 'behavior', 'beneficiari', 'benefit', 'best',\n",
       "       'better', 'bilater', 'bile', 'bilirubin', 'biolog', 'biopsi',\n",
       "       'birth', 'bl', 'blast', 'blood', 'bm', 'bodi', 'bone', 'bpdcn',\n",
       "       'braf', 'brafv600', 'bun', 'burden', 'burkitt', 'bv', 'c', 'c.',\n",
       "       'c.diseas', 'calcium', 'cancer', 'capabl', 'car', 'car-t',\n",
       "       'carcinoma', 'cardiac', 'cardiopulmonari', 'cart', 'cartx',\n",
       "       'cathet', 'cbc', 'ccr≥30', 'cd147+', 'cd19', 'cd19+', 'cd19+cd22+',\n",
       "       'cd19/cd20', 'cd20', 'cd3', 'cd3+', 'cd30-posit', 'cd317', 'cd38',\n",
       "       'cd47', 'cd5', 'cd7', 'cd99', 'cell', 'cell/histiocyt', 'cell/mm3',\n",
       "       'cells/mm3.', 'cellular', 'center', 'central', 'cerebr', 'chain',\n",
       "       'chemo-immunotherapi', 'chemorefractori', 'chemotherapi', 'child',\n",
       "       'child-bear', 'childbear', 'children', 'chimer', 'chl', 'chronic',\n",
       "       'cibmtr', 'ciloleucel', 'classic', 'classif', 'clinic', 'cll',\n",
       "       'cm', 'cm2', 'cm^3', 'cns', 'cns3', 'co-op', 'coagul', 'cohort',\n",
       "       'collect', 'coloni', 'colorect', 'combin', 'committe', 'comorbid',\n",
       "       'complet', 'complianc', 'conceiv', 'condom', 'conduct', 'confirm',\n",
       "       'consent', 'consid', 'consist', 'content', 'continu', 'contracept',\n",
       "       'contraind', 'control', 'convent', 'cooper', 'correct', 'correl',\n",
       "       'correspond', 'corticosteroid', 'count', 'cours', 'cr', 'cranial',\n",
       "       'crcl', 'creatinin', 'criteria', 'critic', 'crossov', 'crpc',\n",
       "       'csf', 'ct', 'curat', 'current', 'cut-off', 'cutan', 'cva',\n",
       "       'cybordex', 'cycl', 'cytogenet', 'cytolog', 'cytometri',\n",
       "       'cytopenia', 'cytospin', 'd-rd', 'd-vrd', 'd.', 'danger', 'daric',\n",
       "       'dartmouth-hitchcock', 'data', 'date', 'day', 'deem', 'deficit',\n",
       "       'defin', 'depend', 'detect', 'determin', 'devic', 'diagnos',\n",
       "       'diagnosi', 'dialysi', 'diamet', 'differenti', 'diffus', 'digit',\n",
       "       'dipstick', 'discontinu', 'diseas', 'disord', 'dlbcl', 'document',\n",
       "       'donat', 'donor', 'dose', 'doubl', 'drawn', 'drip', 'drug',\n",
       "       'drug.', 'duct', 'due', 'durat', 'e.', 'e.g.', 'eastern', 'ebv',\n",
       "       'echo', 'echocardiogram', 'echocardiographi', 'ecog', 'effect',\n",
       "       'efficaci', 'effici', 'effus', 'either', 'eject', 'elaps', 'elder',\n",
       "       'elig', 'eligible.', 'end', 'enhanc', 'enrol', 'enrollment.',\n",
       "       'entir', 'entri', 'epcam', 'epstein', 'equal', 'equival',\n",
       "       'erythropoietin', 'estim', 'etc', 'ethic', 'ethnic', 'evalu',\n",
       "       'event', 'evid', 'examin', 'exceed', 'except', 'exclud', 'expect',\n",
       "       'experiment', 'express', 'extramedullari', 'f.', 'factor', 'fail',\n",
       "       'failur', 'famili', 'featur', 'felt', 'femal', 'fetus', 'first',\n",
       "       'first-lin', 'fl', 'flow', 'fluid', 'follicular', 'follow',\n",
       "       'follow-up', 'form', 'found', 'four', 'fraction', 'free', 'front',\n",
       "       'fulli', 'function', 'g/dl', 'g/l', 'gastric', 'gemtuzumab',\n",
       "       'gender', 'gene', 'gilbert', 'give', 'given', 'good', 'gpc3',\n",
       "       'grade', 'granulocyt', 'greater', 'group', 'growth', 'guardian',\n",
       "       'gucy2c', 'guidelin', 'gvhd', 'had≥2', 'hb', 'hb≥60', 'hcl', 'hct',\n",
       "       'health', 'healthi', 'hematolog', 'hematopatholog', 'hematopoiet',\n",
       "       'hemoglobin', 'hepat', 'hepatocellular', 'hgb', 'hgb≥70g/l',\n",
       "       'high', 'high-risk', 'his/her', 'histolog', 'histori', 'hodgkin',\n",
       "       'hour', 'hsct', 'human', 'hydroxyurea', 'hysterectomi', 'i.',\n",
       "       'i.e', 'icf', 'ihc', 'ii', 'iii', 'imag', 'immuno-histochem',\n",
       "       'immunoglobulin', 'immunohistochem', 'immunohistochemistri',\n",
       "       'immunosuppress', 'immunotherapi', 'imwg', 'in-rang', 'includ',\n",
       "       'included.', 'inclus', 'indic', 'indol', 'indoor', 'induct',\n",
       "       'inelig', 'infect', 'inflamm', 'inform', 'infus', 'inhal',\n",
       "       'inhibitor', 'initi', 'inr', 'inspect', 'institut', 'intens',\n",
       "       'intent', 'intern', 'interven', 'intervent', 'intramedullari',\n",
       "       'intrathec', 'intrauterin', 'intraven', 'invalid', 'invas',\n",
       "       'investig', 'invis', 'ion', 'iwg', 'judg', 'judgement', 'jwcar029',\n",
       "       'kappa/lambda', 'karnofski', 'kg', 'kidney', 'kinas', 'kps', 'l',\n",
       "       'lab', 'laboratori', 'lack', 'lactat', 'lanski', 'larg', 'last',\n",
       "       'least', 'left', 'legal', 'lesion', 'lesions≥10mm', 'lesion≥15mm',\n",
       "       'less', 'leukapheresi', 'leukemia', 'leukemia/lymphoma',\n",
       "       'leukocyt', 'level', 'li', 'life', 'light', 'like', 'limit',\n",
       "       'line', 'lipas', 'liver', 'long-term', 'longest', 'low', 'lower',\n",
       "       'lpl', 'ltfu', 'lugano', 'lvef', 'ly', 'lymph', 'lymphoblast',\n",
       "       'lymphocyt', 'lymphodeplet', 'lymphoma', 'm-protein', 'm-spike',\n",
       "       'm2', 'macroglobulinemia', 'magnet', 'mainten', 'male', 'malign',\n",
       "       'mantl', 'manufactur', 'marrow', 'maximum', 'may', 'mcl', 'mcrpc',\n",
       "       'measur', 'mediastin', 'medic', 'meet', 'mek', 'melanoma',\n",
       "       'member', 'men', 'mental', 'mention', 'mesothelin', 'metastas',\n",
       "       'metastasi', 'metastat', 'method', 'mg/24', 'mg/dl', 'mg/g',\n",
       "       'mg/mmol', 'microlit', 'minim', 'minimum', 'mix', 'ml/min',\n",
       "       'ml/min/1.73', 'mm', 'mmp2', 'mmp2+', 'moder', 'moderate/high',\n",
       "       'modifi', 'molecular', 'monoclon', 'month', 'morpholog', 'mpf',\n",
       "       'mrd', 'mrd+', 'mri', 'muga', 'multi-paramet', 'multipl', 'must',\n",
       "       'mutat', 'myeloid', 'myeloma', 'mzl', 'natur', 'nci-ctca', 'ndmm',\n",
       "       'need', 'negat', 'negative/trac', 'nerv', 'nervous',\n",
       "       'neuroendocrin', 'neurolog', 'neutrophil', 'newli', 'nhl', 'node',\n",
       "       'non', 'non-childbear', 'non-hodgkin', 'non-lact', 'non-pregn',\n",
       "       'non-resect', 'non-respond', 'normal', 'nos', 'number', 'observ',\n",
       "       'obstruct', 'obtain', 'ol', 'old', 'older', 'ommaya', 'oncolog',\n",
       "       'one', 'ongo', 'opinion', 'option', 'oral', 'organ', 'other',\n",
       "       'otherwis', 'oximetri', 'oxygen', 'ozogamicin', 'p', 'palsi',\n",
       "       'paramet', 'paraprotein', 'parent', 'part', 'partial', 'particip',\n",
       "       'partner', 'patholog', 'patient', 'pbmc', 'pcr', 'pd', 'pd-1',\n",
       "       'pdl-1', 'per', 'percentag', 'perform', 'pericardi', 'period',\n",
       "       'peripher', 'periton', 'permiss', 'perpendicular', 'persist',\n",
       "       'pet-posit', 'phase', 'phosphatas', 'physic', 'physiolog', 'plan',\n",
       "       'plane', 'plasma', 'platelet', 'plt', 'plt≥', 'plus', 'pmbcl',\n",
       "       'point', 'polymeras', 'pose', 'posit', 'possibl', 'post',\n",
       "       'potenti', 'pr', 'practic', 'pre-transpl', 'pre-treat', 'preclud',\n",
       "       'precondit', 'pregnanc', 'prepar', 'presenc', 'present',\n",
       "       'previous', 'primari', 'prior', 'procedur', 'product', 'prognosi',\n",
       "       'progress', 'proven', 'provid', 'ps', 'pt', 'ptt', 'pulmonari',\n",
       "       'puls', 'r0', 'race', 'radiat', 'radic', 'radiolog',\n",
       "       'radiotherapi', 'random', 'rate', 'ratio', 're-induct', 'reaction',\n",
       "       'receiv', 'recent', 'receptor', 'recipi', 'recist', 'recombin',\n",
       "       'recov', 'rectal', 'recur', 'recurr', 'recurrent/refractori',\n",
       "       'refractori', 'refractory/relaps', 'refrain', 'regardless',\n",
       "       'regimen', 'regimens.', 'regist', 'registr', 'relaps',\n",
       "       'relapse/refractori', 'relapsed/refractori', 'relax', 'remain',\n",
       "       'remiss', 'remnant', 'remov', 'renal', 'replac', 'report',\n",
       "       'repres', 'representative.', 'reproduct', 'requir', 'research',\n",
       "       'resect', 'reservoir', 'residu', 'resolv', 'reson', 'respons',\n",
       "       'result', 'revis', 'rich', 'richter', 'rickham', 'risk', 'room',\n",
       "       'routin', 'salpingo-oophorectomi', 'salvag', 'sampl', 'satisfi',\n",
       "       'satur', 'scan', 'scheme', 'score', 'screen', 'sct', 'second',\n",
       "       'secur', 'separ', 'serious', 'serum', 'sever', 'sex', 'shorten',\n",
       "       'show', 'sign', 'signific', 'sinc', 'singl', 'site', 'smooth',\n",
       "       'social', 'solid', 'specif', 'specifi', 'sperm', 'spinal',\n",
       "       'spleen', 'spot', 'stabl', 'stage', 'stain', 'standard', 'start',\n",
       "       'status', 'steinherz/bley', 'stem', 'step', 'steril', 'steroid',\n",
       "       'still', 'stimul', 'studi', 'studyand', 'subject', 'subtyp',\n",
       "       'suggest', 'superfici', 'support', 'surgeri', 'surgic', 'surviv',\n",
       "       'suspect', 'suspicion', 'symptom', 'syndrom', 'system', 't-cell',\n",
       "       'target', 'tbil≤2uln', 'temozolomid', 'test', 'tfl', 'therapi',\n",
       "       'therefor', 'three', 'throughout', 'thymic', 'time', 'timepoint',\n",
       "       'tissu', 'tki', 'tkis', 'togeth', 'total', 'toxic', 'transaminas',\n",
       "       'transaminase-alanin', 'transform', 'transfus', 'transplant',\n",
       "       'trbc1/2', 'treat', 'treatment', 'trial', 'trial-rel', 'tumor',\n",
       "       'two', 'type', 'tyrosin', 'ul', 'uln', 'umol/l', 'under',\n",
       "       'undergo', 'undergon', 'understand', 'undertak', 'underw',\n",
       "       'unless', 'unmeasur', 'unrel', 'unresect', 'unwil', 'up-', 'upper',\n",
       "       'urin', 'use', 'v1.1measur', 'v5.0', 'valu', 'vascular', 'venous',\n",
       "       'ventricular', 'volunt', 'voluntari', 'voluntarili', 'vrd',\n",
       "       'waldenstrom', 'washout', 'wbc', 'wbcs', 'week', 'weight', 'white',\n",
       "       'whose', 'will', 'willing', 'within', 'without', 'wm', 'wocbp',\n",
       "       'women', 'world', 'write', 'written', 'x', 'year', 'years-old',\n",
       "       '~', '×', 'μmol/l', '•', '≤', '≤1.5xmg/dl', '≤1.5xuln', '≤2.5xuln',\n",
       "       '≤200', '≤2×uln', '≤5×uln', '≤65', '≥', '≥1.5×109/l', '≥10',\n",
       "       '≥1000/mm^3', '≥16', '≥2+', '≥20', '≥200', '≥3', '≥30', '≥40',\n",
       "       '≥50', '≥70', '≥75000/mm^3', '≥80g/l', '≥80×109/l', '≥92', '≥95',\n",
       "       '《'], dtype=object)"
      ]
     },
     "execution_count": 14,
     "metadata": {},
     "output_type": "execute_result"
    }
   ],
   "source": [
    "vectorizer.get_feature_names_out()"
   ]
  },
  {
   "cell_type": "markdown",
   "id": "p8vXi5UHF8d8",
   "metadata": {
    "id": "p8vXi5UHF8d8"
   },
   "source": [
    "# Visualizing the Training Data"
   ]
  },
  {
   "cell_type": "code",
   "execution_count": 15,
   "id": "JqKXBeDOF81r",
   "metadata": {
    "id": "JqKXBeDOF81r"
   },
   "outputs": [],
   "source": [
    "# Cosine Similarity Matrix\n",
    "similarity_matrix = cosine_similarity(X_train)\n",
    "dissimilarity_matrix = 1 - similarity_matrix\n",
    "#dissimilarity_matrix"
   ]
  },
  {
   "cell_type": "code",
   "execution_count": 16,
   "id": "r9HRoZSXGFHg",
   "metadata": {
    "id": "r9HRoZSXGFHg"
   },
   "outputs": [],
   "source": [
    "# MDS\n",
    "mds = MDS(n_components=2,normalized_stress='auto', dissimilarity='precomputed')\n",
    "X_2d = mds.fit_transform(dissimilarity_matrix)"
   ]
  },
  {
   "cell_type": "code",
   "execution_count": 17,
   "id": "lcbvfq--GHm8",
   "metadata": {
    "colab": {
     "base_uri": "https://localhost:8080/",
     "height": 472
    },
    "id": "lcbvfq--GHm8",
    "outputId": "ef1d4eef-3039-4551-a697-3d7afa2ad6ae"
   },
   "outputs": [
    {
     "data": {
      "image/png": "[encoded data removed]",
      "text/plain": [
       "<Figure size 640x480 with 1 Axes>"
      ]
     },
     "metadata": {},
     "output_type": "display_data"
    }
   ],
   "source": [
    "color_mapping = {0.0: 'blue', 1.0: 'red'}\n",
    "colors = [color_mapping[v] for v in y_train]\n",
    "\n",
    "plt.scatter(X_2d[:, 0], X_2d[:, 1], c=colors, alpha=0.7)\n",
    "plt.title('MDS Viz of Dissimilarity Matrix')\n",
    "plt.xlabel('Dimension-1')\n",
    "plt.ylabel('Dimension-2')\n",
    "plt.legend(['Simple','Complex'])\n",
    "plt.show();"
   ]
  },
  {
   "cell_type": "code",
   "execution_count": 18,
   "id": "qS5KMlsS-jFq",
   "metadata": {
    "id": "qS5KMlsS-jFq"
   },
   "outputs": [],
   "source": [
    "def get_metrics(y_pred):\n",
    "  accuracy = accuracy_score(y_test, y_pred)\n",
    "  auroc = roc_auc_score(y_test, y_pred)\n",
    "\n",
    "  print(classification_report(y_test, y_pred))\n",
    "\n",
    "  print(\"AUROC:\", auroc)"
   ]
  },
  {
   "cell_type": "markdown",
   "id": "E5IaPxwxFoPG",
   "metadata": {
    "id": "E5IaPxwxFoPG"
   },
   "source": [
    "# Logit Model"
   ]
  },
  {
   "cell_type": "code",
   "execution_count": 19,
   "id": "uJsg1U-eGW2y",
   "metadata": {
    "id": "uJsg1U-eGW2y"
   },
   "outputs": [],
   "source": [
    "clf = LogisticRegression(max_iter = 200, solver='liblinear',class_weight='balanced' ).fit(X_train, y_train)"
   ]
  },
  {
   "cell_type": "code",
   "execution_count": 20,
   "id": "XwQoZNzbGVWc",
   "metadata": {
    "colab": {
     "base_uri": "https://localhost:8080/"
    },
    "id": "XwQoZNzbGVWc",
    "outputId": "7fa8b426-ced4-4aa4-b3ca-e082e276ca0e"
   },
   "outputs": [
    {
     "name": "stdout",
     "output_type": "stream",
     "text": [
      "              precision    recall  f1-score   support\n",
      "\n",
      "           0       0.96      0.76      0.85        58\n",
      "           1       0.48      0.87      0.62        15\n",
      "\n",
      "    accuracy                           0.78        73\n",
      "   macro avg       0.72      0.81      0.73        73\n",
      "weighted avg       0.86      0.78      0.80        73\n",
      "\n",
      "AUROC: 0.8126436781609194\n"
     ]
    }
   ],
   "source": [
    "get_metrics(clf.predict(X_test))"
   ]
  },
  {
   "cell_type": "markdown",
   "id": "4MU-9-B-GdnO",
   "metadata": {
    "id": "4MU-9-B-GdnO"
   },
   "source": [
    "# Hypertuned Random Forest Classifier"
   ]
  },
  {
   "cell_type": "code",
   "execution_count": 21,
   "id": "gKdBu2XhDHyX",
   "metadata": {
    "colab": {
     "base_uri": "https://localhost:8080/"
    },
    "id": "gKdBu2XhDHyX",
    "outputId": "e9d12f24-03f5-41cf-8463-a2d07540c87b"
   },
   "outputs": [
    {
     "name": "stdout",
     "output_type": "stream",
     "text": [
      "Fitting 5 folds for each of 1 candidates, totalling 5 fits\n"
     ]
    }
   ],
   "source": [
    "class_weight = []\n",
    "for x in np.arange(1,5.0,0.5):\n",
    "    class_weight.append({0:1,1:x})\n",
    "\n",
    "# parameter grid to search over\n",
    "param_grid = {\n",
    "    'n_estimators': [75], # no of trees\n",
    "    'max_depth': [2],\n",
    "    'min_samples_split': [4],\n",
    "    'min_samples_leaf': [6],\n",
    "    'max_features': ['sqrt'], #'log2'\n",
    "    'bootstrap':[False],\n",
    "    'class_weight': [{0: 1, 1: 3.5}], #class_weight,\n",
    "    'criterion':['gini'],#'entropy'\n",
    "}\n",
    "# RandomForest model\n",
    "rf = RandomForestClassifier(random_state=42)\n",
    "#GridSearchCV\n",
    "grid_search = GridSearchCV(estimator=rf, param_grid=param_grid, cv=5, n_jobs=-1, scoring='roc_auc', verbose=2,)\n",
    "# fit the data to grid search\n",
    "grid_search.fit(X_train, y_train)\n",
    "# get the best estimator\n",
    "best_rf = grid_search.best_estimator_"
   ]
  },
  {
   "cell_type": "code",
   "execution_count": 22,
   "id": "iifgzjG0DH16",
   "metadata": {
    "colab": {
     "base_uri": "https://localhost:8080/"
    },
    "id": "iifgzjG0DH16",
    "outputId": "09f4bae0-d228-4501-d2bf-b8a1de938016"
   },
   "outputs": [
    {
     "data": {
      "text/plain": [
       "{'bootstrap': False,\n",
       " 'class_weight': {0: 1, 1: 3.5},\n",
       " 'criterion': 'gini',\n",
       " 'max_depth': 2,\n",
       " 'max_features': 'sqrt',\n",
       " 'min_samples_leaf': 6,\n",
       " 'min_samples_split': 4,\n",
       " 'n_estimators': 75}"
      ]
     },
     "execution_count": 22,
     "metadata": {},
     "output_type": "execute_result"
    }
   ],
   "source": [
    "grid_search.best_params_"
   ]
  },
  {
   "cell_type": "code",
   "execution_count": 23,
   "id": "1OXCBNfpDH5h",
   "metadata": {
    "colab": {
     "base_uri": "https://localhost:8080/"
    },
    "id": "1OXCBNfpDH5h",
    "outputId": "feae4a96-e50c-4e1e-99bb-aad239f6da29"
   },
   "outputs": [
    {
     "name": "stdout",
     "output_type": "stream",
     "text": [
      "              precision    recall  f1-score   support\n",
      "\n",
      "           0       0.90      0.90      0.90        58\n",
      "           1       0.60      0.60      0.60        15\n",
      "\n",
      "    accuracy                           0.84        73\n",
      "   macro avg       0.75      0.75      0.75        73\n",
      "weighted avg       0.84      0.84      0.84        73\n",
      "\n",
      "AUROC: 0.7482758620689656\n"
     ]
    }
   ],
   "source": [
    "get_metrics(best_rf.predict(X_test))"
   ]
  },
  {
   "cell_type": "markdown",
   "id": "K8HUCrUIrfg7",
   "metadata": {
    "id": "K8HUCrUIrfg7"
   },
   "source": [
    "### RandomOverSampler"
   ]
  },
  {
   "cell_type": "code",
   "execution_count": 26,
   "id": "be29b390-58ad-486f-b86c-8c69918bf5b5",
   "metadata": {},
   "outputs": [],
   "source": [
    "!pip install imblearn -q"
   ]
  },
  {
   "cell_type": "code",
   "execution_count": 27,
   "id": "AZ6p-vx6rhSL",
   "metadata": {
    "id": "AZ6p-vx6rhSL"
   },
   "outputs": [],
   "source": [
    "from imblearn.over_sampling import RandomOverSampler"
   ]
  },
  {
   "cell_type": "code",
   "execution_count": 28,
   "id": "T9xLCEmhrfF8",
   "metadata": {
    "id": "T9xLCEmhrfF8"
   },
   "outputs": [],
   "source": [
    "oversampler = RandomOverSampler(random_state=42)\n",
    "X_resampled, y_resampled = oversampler.fit_resample(X_train, y_train)"
   ]
  },
  {
   "cell_type": "markdown",
   "id": "wyFYhp4FGzut",
   "metadata": {
    "id": "wyFYhp4FGzut"
   },
   "source": [
    "# Hypertuned Gradient Boosting Classifier"
   ]
  },
  {
   "cell_type": "code",
   "execution_count": 29,
   "id": "iQC35q5iDH9H",
   "metadata": {
    "id": "iQC35q5iDH9H"
   },
   "outputs": [],
   "source": [
    "param_grid = {\n",
    "    'n_estimators': [85],\n",
    "    'learning_rate': [0.04] , #np.arange(0.01,0.05),\n",
    "    'max_depth': [6],\n",
    "    'min_samples_split': [4],\n",
    "    'min_samples_leaf': [4],\n",
    "    'subsample': [0.7],\n",
    "}\n",
    "class_weights = dict(zip(*np.unique(y_resampled, return_counts=True)))\n",
    "sample_weights = [class_weights[label] for label in y_resampled]\n",
    "\n",
    "gb_model = GradientBoostingClassifier(random_state=42)\n",
    "\n",
    "grid_search = GridSearchCV(estimator=gb_model, param_grid=param_grid, n_jobs=-1,cv=5, scoring='roc_auc') #verbose=2,\n",
    "\n",
    "grid_search.fit(X_resampled, y_resampled,sample_weight=sample_weights)\n",
    "\n",
    "best_gb = grid_search.best_estimator_"
   ]
  },
  {
   "cell_type": "code",
   "execution_count": 30,
   "id": "0iM3PXRVDIAz",
   "metadata": {
    "colab": {
     "base_uri": "https://localhost:8080/"
    },
    "id": "0iM3PXRVDIAz",
    "outputId": "8e93c2c5-d5db-4b12-d758-a25fa0610071"
   },
   "outputs": [
    {
     "data": {
      "text/plain": [
       "{'learning_rate': 0.04,\n",
       " 'max_depth': 6,\n",
       " 'min_samples_leaf': 4,\n",
       " 'min_samples_split': 4,\n",
       " 'n_estimators': 85,\n",
       " 'subsample': 0.7}"
      ]
     },
     "execution_count": 30,
     "metadata": {},
     "output_type": "execute_result"
    }
   ],
   "source": [
    "grid_search.best_params_"
   ]
  },
  {
   "cell_type": "code",
   "execution_count": 31,
   "id": "soRTqxz4DIHo",
   "metadata": {
    "colab": {
     "base_uri": "https://localhost:8080/"
    },
    "id": "soRTqxz4DIHo",
    "outputId": "028430b9-3a46-409b-dd52-16f1598e0dee"
   },
   "outputs": [
    {
     "name": "stdout",
     "output_type": "stream",
     "text": [
      "              precision    recall  f1-score   support\n",
      "\n",
      "           0       0.91      0.84      0.88        58\n",
      "           1       0.53      0.67      0.59        15\n",
      "\n",
      "    accuracy                           0.81        73\n",
      "   macro avg       0.72      0.76      0.73        73\n",
      "weighted avg       0.83      0.81      0.82        73\n",
      "\n",
      "AUROC: 0.7557471264367815\n"
     ]
    }
   ],
   "source": [
    "get_metrics(best_gb.predict(X_test))"
   ]
  },
  {
   "cell_type": "markdown",
   "id": "onKSTzE4HIbt",
   "metadata": {
    "id": "onKSTzE4HIbt"
   },
   "source": [
    "# KNN"
   ]
  },
  {
   "cell_type": "code",
   "execution_count": 32,
   "id": "Zq1WvA91HIqG",
   "metadata": {
    "colab": {
     "base_uri": "https://localhost:8080/"
    },
    "id": "Zq1WvA91HIqG",
    "outputId": "4ccd93b4-4066-4016-c6f4-97857cf42e96"
   },
   "outputs": [
    {
     "name": "stdout",
     "output_type": "stream",
     "text": [
      "Fitting 5 folds for each of 2 candidates, totalling 10 fits\n"
     ]
    }
   ],
   "source": [
    "param_grid = {\n",
    "    'n_neighbors': [35],\n",
    "    'weights': ['distance',],\n",
    "    'metric':['euclidean','minkowski'],\n",
    "}\n",
    "\n",
    "knn = KNeighborsClassifier()\n",
    "\n",
    "grid_search = GridSearchCV(estimator=knn, param_grid=param_grid, scoring='roc_auc', n_jobs=-1,cv=5, verbose=2)\n",
    "grid_search.fit(X_resampled, y_resampled)\n",
    "\n",
    "best_knn = grid_search.best_estimator_"
   ]
  },
  {
   "cell_type": "code",
   "execution_count": 33,
   "id": "LMbT4m4cHIt6",
   "metadata": {
    "colab": {
     "base_uri": "https://localhost:8080/"
    },
    "id": "LMbT4m4cHIt6",
    "outputId": "62a702a9-b001-4f2d-e970-d814d5893a7c"
   },
   "outputs": [
    {
     "data": {
      "text/plain": [
       "{'metric': 'euclidean', 'n_neighbors': 35, 'weights': 'distance'}"
      ]
     },
     "execution_count": 33,
     "metadata": {},
     "output_type": "execute_result"
    }
   ],
   "source": [
    "grid_search.best_params_"
   ]
  },
  {
   "cell_type": "code",
   "execution_count": 34,
   "id": "c1aJQoGDHIx1",
   "metadata": {
    "colab": {
     "base_uri": "https://localhost:8080/"
    },
    "id": "c1aJQoGDHIx1",
    "outputId": "cfb22016-1f00-4745-823e-7424901a7504"
   },
   "outputs": [
    {
     "name": "stdout",
     "output_type": "stream",
     "text": [
      "              precision    recall  f1-score   support\n",
      "\n",
      "           0       0.97      0.67      0.80        58\n",
      "           1       0.42      0.93      0.58        15\n",
      "\n",
      "    accuracy                           0.73        73\n",
      "   macro avg       0.70      0.80      0.69        73\n",
      "weighted avg       0.86      0.73      0.75        73\n",
      "\n",
      "AUROC: 0.8028735632183908\n"
     ]
    }
   ],
   "source": [
    "get_metrics(best_knn.predict(X_test))"
   ]
  },
  {
   "cell_type": "markdown",
   "id": "ZBnIQNnCh_Wu",
   "metadata": {
    "id": "ZBnIQNnCh_Wu"
   },
   "source": [
    "# SVM"
   ]
  },
  {
   "cell_type": "code",
   "execution_count": 35,
   "id": "p4QqyC63iBHt",
   "metadata": {
    "id": "p4QqyC63iBHt"
   },
   "outputs": [],
   "source": [
    "from sklearn.svm import SVC"
   ]
  },
  {
   "cell_type": "code",
   "execution_count": 36,
   "id": "mQawLZRviBSM",
   "metadata": {
    "id": "mQawLZRviBSM"
   },
   "outputs": [],
   "source": [
    "param_grid = {\n",
    "    'C': [2],\n",
    "    'kernel': ['linear', 'rbf', 'poly'],\n",
    "    'gamma': [0.1, 1, 'scale'],\n",
    "    'class_weight' : ['balanced'],\n",
    "}\n",
    "svm = SVC(probability=True)\n",
    "\n",
    "grid_search = GridSearchCV(estimator=svm,param_grid=param_grid, cv=5, n_jobs=-1, scoring='roc_auc')\n",
    "grid_search.fit(X_train, y_train)\n",
    "best_svm = grid_search.best_estimator_"
   ]
  },
  {
   "cell_type": "code",
   "execution_count": 37,
   "id": "WjLAgqEOi3rR",
   "metadata": {
    "colab": {
     "base_uri": "https://localhost:8080/"
    },
    "id": "WjLAgqEOi3rR",
    "outputId": "f4df373a-072c-4852-9919-b9dbdc77a327"
   },
   "outputs": [
    {
     "data": {
      "text/plain": [
       "{'C': 2, 'class_weight': 'balanced', 'gamma': 0.1, 'kernel': 'rbf'}"
      ]
     },
     "execution_count": 37,
     "metadata": {},
     "output_type": "execute_result"
    }
   ],
   "source": [
    "grid_search.best_params_"
   ]
  },
  {
   "cell_type": "code",
   "execution_count": 38,
   "id": "0XO-Tkj1i-d7",
   "metadata": {
    "colab": {
     "base_uri": "https://localhost:8080/"
    },
    "id": "0XO-Tkj1i-d7",
    "outputId": "54ee2fa2-d1e9-4b03-b8ce-ebd3ca177285"
   },
   "outputs": [
    {
     "name": "stdout",
     "output_type": "stream",
     "text": [
      "              precision    recall  f1-score   support\n",
      "\n",
      "           0       0.98      0.69      0.81        58\n",
      "           1       0.44      0.93      0.60        15\n",
      "\n",
      "    accuracy                           0.74        73\n",
      "   macro avg       0.71      0.81      0.70        73\n",
      "weighted avg       0.87      0.74      0.76        73\n",
      "\n",
      "AUROC: 0.8114942528735634\n"
     ]
    }
   ],
   "source": [
    "get_metrics(best_svm.predict(X_test))"
   ]
  },
  {
   "cell_type": "markdown",
   "id": "X9FCw-N6HVX6",
   "metadata": {
    "id": "X9FCw-N6HVX6"
   },
   "source": [
    "# Voting Classifier"
   ]
  },
  {
   "cell_type": "code",
   "execution_count": 39,
   "id": "mvNdfrPwi6cR",
   "metadata": {
    "id": "mvNdfrPwi6cR"
   },
   "outputs": [],
   "source": [
    "from itertools import combinations"
   ]
  },
  {
   "cell_type": "code",
   "execution_count": 40,
   "id": "ZBEJGshrHUnB",
   "metadata": {
    "colab": {
     "base_uri": "https://localhost:8080/"
    },
    "id": "ZBEJGshrHUnB",
    "outputId": "74143581-539d-4059-8ac5-32537ceff116"
   },
   "outputs": [
    {
     "name": "stdout",
     "output_type": "stream",
     "text": [
      "['logit', 'rf']\n",
      "              precision    recall  f1-score   support\n",
      "\n",
      "           0       0.96      0.79      0.87        58\n",
      "           1       0.52      0.87      0.65        15\n",
      "\n",
      "    accuracy                           0.81        73\n",
      "   macro avg       0.74      0.83      0.76        73\n",
      "weighted avg       0.87      0.81      0.82        73\n",
      "\n",
      "AUROC: 0.8298850574712644\n",
      "..................................................................................\n",
      "['svm', 'gb']\n",
      "              precision    recall  f1-score   support\n",
      "\n",
      "           0       0.92      0.95      0.93        58\n",
      "           1       0.77      0.67      0.71        15\n",
      "\n",
      "    accuracy                           0.89        73\n",
      "   macro avg       0.84      0.81      0.82        73\n",
      "weighted avg       0.89      0.89      0.89        73\n",
      "\n",
      "AUROC: 0.807471264367816\n",
      "..................................................................................\n",
      "['svm', 'rf', 'gb']\n",
      "              precision    recall  f1-score   support\n",
      "\n",
      "           0       0.92      0.95      0.93        58\n",
      "           1       0.77      0.67      0.71        15\n",
      "\n",
      "    accuracy                           0.89        73\n",
      "   macro avg       0.84      0.81      0.82        73\n",
      "weighted avg       0.89      0.89      0.89        73\n",
      "\n",
      "AUROC: 0.807471264367816\n",
      "..................................................................................\n"
     ]
    }
   ],
   "source": [
    "def generate_combinations(items):\n",
    "  all_combos = []\n",
    "  for r in range(2, 6):\n",
    "    combos = combinations(items, r)\n",
    "    all_combos.extend(combos)\n",
    "  return all_combos\n",
    "\n",
    "ensembles = generate_combinations([('logit', clf),('svm',svm),('rf', best_rf), ('gb', best_gb), ('knn', best_knn)])\n",
    "#ensembles[0]\n",
    "\n",
    "\n",
    "score = 0.8\n",
    "\n",
    "\n",
    "for estimators in ensembles:\n",
    "\n",
    "  ensemble = [tuple(item) for item in estimators]\n",
    "\n",
    "  voting_clf = VotingClassifier(estimators=ensemble,voting='soft') #averaging on predict_probabilities\n",
    "  voting_clf = voting_clf.fit(X_train, y_train)\n",
    "\n",
    "  ensemble_predictions = voting_clf.predict(X_test)\n",
    "  #ensemble_probabilities = voting_clf.predict_proba(X_test)[:, 0]\n",
    "\n",
    "  if score < max(score,roc_auc_score(y_test, ensemble_predictions)):\n",
    "    print([tuple(item)[0] for item in estimators])\n",
    "    get_metrics(ensemble_predictions)\n",
    "    print('..................................................................................')\n"
   ]
  },
  {
   "cell_type": "code",
   "execution_count": 42,
   "id": "39NGm8UiHUvM",
   "metadata": {
    "colab": {
     "base_uri": "https://localhost:8080/"
    },
    "id": "39NGm8UiHUvM",
    "outputId": "3401de96-6a0a-43f6-f160-9a9178299127"
   },
   "outputs": [
    {
     "name": "stdout",
     "output_type": "stream",
     "text": [
      "              precision    recall  f1-score   support\n",
      "\n",
      "           0       0.92      0.95      0.93        58\n",
      "           1       0.77      0.67      0.71        15\n",
      "\n",
      "    accuracy                           0.89        73\n",
      "   macro avg       0.84      0.81      0.82        73\n",
      "weighted avg       0.89      0.89      0.89        73\n",
      "\n",
      "AUROC: 0.807471264367816\n"
     ]
    }
   ],
   "source": [
    "best_voting_clf = VotingClassifier(estimators=[('logit', clf),('svm',best_svm),('rf', best_rf), ('gb', best_gb)],voting='soft') #averaging on predict_probabilities\n",
    "best_voting_clf = best_voting_clf.fit(X_train, y_train)\n",
    "\n",
    "ensemble_predictions = best_voting_clf.predict(X_test)\n",
    "#ensemble_probabilities = voting_clf.predict_proba(X_test)[:, 0]\n",
    "\n",
    "get_metrics(ensemble_predictions)"
   ]
  },
  {
   "cell_type": "markdown",
   "id": "nVxfoemvimZN",
   "metadata": {
    "id": "nVxfoemvimZN"
   },
   "source": [
    "# CV fold"
   ]
  },
  {
   "cell_type": "code",
   "execution_count": 43,
   "id": "VohU0cUKi8Vq",
   "metadata": {
    "id": "VohU0cUKi8Vq"
   },
   "outputs": [],
   "source": [
    "from sklearn.model_selection import cross_val_score"
   ]
  },
  {
   "cell_type": "code",
   "execution_count": 44,
   "id": "E8jZcRrqHdNN",
   "metadata": {
    "colab": {
     "base_uri": "https://localhost:8080/"
    },
    "id": "E8jZcRrqHdNN",
    "outputId": "9a01df28-5dbe-468d-a317-cb27cd7f7250"
   },
   "outputs": [
    {
     "name": "stdout",
     "output_type": "stream",
     "text": [
      "Model: logit\n",
      "CV scores: [0.80344828 0.85747126 0.84310345 0.87241379 0.87701149] \n",
      "Mean: 0.85\n",
      "Standard Error: 0.01\n",
      "...........................\n",
      "Model: RF\n",
      "CV scores: [0.80804598 0.87586207 0.85689655 0.9091954  0.92413793] \n",
      "Mean: 0.87\n",
      "Standard Error: 0.02\n",
      "...........................\n",
      "Model: GB\n",
      "CV scores: [0.7908046  0.86321839 0.8        0.90574713 0.87471264] \n",
      "Mean: 0.85\n",
      "Standard Error: 0.02\n",
      "...........................\n",
      "Model: KNN\n",
      "CV scores: [0.73563218 0.73390805 0.76724138 0.85287356 0.80689655] \n",
      "Mean: 0.78\n",
      "Standard Error: 0.02\n",
      "...........................\n",
      "Model: svm\n",
      "CV scores: [0.79885057 0.85977011 0.81436782 0.85977011 0.87471264] \n",
      "Mean: 0.84\n",
      "Standard Error: 0.01\n",
      "...........................\n",
      "Model: ensembled_model\n",
      "CV scores: [0.78850575 0.86321839 0.8316092  0.88275862 0.89655172] \n",
      "Mean: 0.85\n",
      "Standard Error: 0.02\n",
      "...........................\n"
     ]
    }
   ],
   "source": [
    "for name,model in [('logit',clf),('RF',best_rf),('GB',best_gb),('KNN',best_knn),('svm',best_svm),('ensembled_model',best_voting_clf)]:\n",
    "\n",
    "  cv = StratifiedKFold(n_splits=5, shuffle=True, random_state=42)\n",
    "  cv_scores = cross_val_score(model, vectorizer.transform(X), y, cv=cv, scoring='roc_auc')\n",
    "\n",
    "  mean_cv = cv_scores.mean()\n",
    "  se_cv = cv_scores.std()/np.sqrt(len(cv_scores))\n",
    "  var_cv = se_cv ** 2\n",
    "  print('Model:',name)\n",
    "  print(f\"CV scores: {cv_scores} \")\n",
    "  print(f\"Mean: {mean_cv:.2f}\")\n",
    "  print(f\"Standard Error: {se_cv:.2f}\")\n",
    "  #print(f\"Variance: {var_cv:.5f}\")\n",
    "  print('...........................')"
   ]
  },
  {
   "cell_type": "markdown",
   "id": "nLuQ0BXVm7Fr",
   "metadata": {
    "id": "nLuQ0BXVm7Fr"
   },
   "source": [
    "# Optimum classification threshold"
   ]
  },
  {
   "cell_type": "code",
   "execution_count": 45,
   "id": "GsTzejysm7a7",
   "metadata": {
    "colab": {
     "base_uri": "https://localhost:8080/"
    },
    "id": "GsTzejysm7a7",
    "outputId": "d1fca4d6-f610-4c37-c775-d21f3dbc8ddc"
   },
   "outputs": [
    {
     "name": "stdout",
     "output_type": "stream",
     "text": [
      "at 0.26\n",
      "              precision    recall  f1-score   support\n",
      "\n",
      "           0       1.00      0.64      0.78        58\n",
      "           1       0.42      1.00      0.59        15\n",
      "\n",
      "    accuracy                           0.71        73\n",
      "   macro avg       0.71      0.82      0.68        73\n",
      "weighted avg       0.88      0.71      0.74        73\n",
      "\n",
      "AUROC: 0.8189655172413793\n",
      "F1 : 0.7789473684210527\n",
      ".............\n",
      "at 0.27\n",
      "              precision    recall  f1-score   support\n",
      "\n",
      "           0       0.97      0.66      0.78        58\n",
      "           1       0.41      0.93      0.57        15\n",
      "\n",
      "    accuracy                           0.71        73\n",
      "   macro avg       0.69      0.79      0.68        73\n",
      "weighted avg       0.86      0.71      0.74        73\n",
      "\n",
      "AUROC: 0.7942528735632184\n",
      "F1 : 0.7835051546391754\n",
      ".............\n",
      "Best F1 Score: 0.78, precision is 1.00 at Threshold: 0.26\n"
     ]
    }
   ],
   "source": [
    "thresholds = np.arange(0.26, 0.27, 0.01)\n",
    "\n",
    "# FOR CLASS 0 : SIMPLE\n",
    "\n",
    "best_f1_score = 0\n",
    "best_precision_score = 0.99\n",
    "best_recall_score = 0\n",
    "best_threshold = 0.0\n",
    "\n",
    "pred_probab = best_voting_clf.predict_proba(X_test)[:, 1]\n",
    "\n",
    "for threshold in thresholds:\n",
    "  # making binary preds acc to current threshold\n",
    "  new_preds = [1 if prob >= threshold else 0 for prob in pred_probab]\n",
    "\n",
    "  #print(new_preds)\n",
    "  #print([int(y) for y in y_test])\n",
    "  precision = precision_score([int(y) for y in y_test], new_preds, pos_label=0, average='binary')\n",
    "  recall = recall_score([int(y) for y in y_test], new_preds, pos_label=0, average='binary')\n",
    "  f1 = f1_score([int(y) for y in y_test], new_preds, pos_label=0, average='binary')\n",
    "\n",
    "  #if precision>=0.99:# and f1>0.8:\n",
    "  print('at',threshold)\n",
    "  get_metrics(new_preds)\n",
    "  print(\"F1 :\",f1)\n",
    "  print(\".............\")\n",
    "\n",
    "  # Check if this threshold gives a better F1 score\n",
    "  if precision >= best_precision_score:\n",
    "      best_f1_score = f1\n",
    "      best_threshold = threshold\n",
    "      best_precision_score = precision\n",
    "\n",
    "print(f\"Best F1 Score: {best_f1_score:.2f}, precision is {best_precision_score:.2f} at Threshold: {best_threshold:.2f}\")"
   ]
  },
  {
   "cell_type": "markdown",
   "id": "txutDGTuwNui",
   "metadata": {
    "id": "txutDGTuwNui"
   },
   "source": [
    "### youden_index\n",
    "\n",
    "summarizes the performance of a binary classification test\n",
    "\n",
    "\n",
    "```\n",
    "youden_index = Sensitivity+Specificity−1\n",
    "\n",
    "tpr = Sensitivity\n",
    "Specificity = tnr = TN/FP+TN\n",
    "fpr = 1-Specificity = FP/FP+TN\n",
    "```"
   ]
  },
  {
   "cell_type": "code",
   "execution_count": 46,
   "id": "gPhstVx9wP_W",
   "metadata": {
    "id": "gPhstVx9wP_W"
   },
   "outputs": [],
   "source": [
    "fpr, tpr, thresholds = roc_curve(y_test, pred_probab)"
   ]
  },
  {
   "cell_type": "code",
   "execution_count": 47,
   "id": "jQpVPJjraEuI",
   "metadata": {
    "id": "jQpVPJjraEuI"
   },
   "outputs": [],
   "source": [
    "youden_index = tpr - fpr"
   ]
  },
  {
   "cell_type": "code",
   "execution_count": 48,
   "id": "qzlqVM4haE8a",
   "metadata": {
    "colab": {
     "base_uri": "https://localhost:8080/"
    },
    "id": "qzlqVM4haE8a",
    "outputId": "782c3650-8da6-4da4-f4a6-f1f46a08b3e9"
   },
   "outputs": [
    {
     "data": {
      "text/plain": [
       "(0.4748322404002869,\n",
       " array([0.        , 0.06666667, 0.26666667, 0.24942529, 0.31609195,\n",
       "        0.2816092 , 0.61494253, 0.59770115, 0.73103448, 0.59310345,\n",
       "        0.65977011, 0.62528736, 0.69195402, 0.57126437, 0.63793103,\n",
       "        0.5       , 0.46551724, 0.31034483, 0.22413793, 0.0862069 ,\n",
       "        0.        ]))"
      ]
     },
     "execution_count": 48,
     "metadata": {},
     "output_type": "execute_result"
    }
   ],
   "source": [
    "thresholds[np.argmax(youden_index)],youden_index"
   ]
  },
  {
   "cell_type": "markdown",
   "id": "dQ2acMfocA7L",
   "metadata": {
    "id": "dQ2acMfocA7L"
   },
   "source": [
    "the threshold that maximizes the Youden Index is 0.20155362000830934 and F1 Score(0) at this point is 0.88"
   ]
  },
  {
   "cell_type": "code",
   "execution_count": null,
   "id": "yhT85z7x5sHa",
   "metadata": {
    "id": "yhT85z7x5sHa"
   },
   "outputs": [],
   "source": []
  },
  {
   "cell_type": "markdown",
   "id": "O0WZJ4IF5ql2",
   "metadata": {
    "id": "O0WZJ4IF5ql2"
   },
   "source": [
    "check stopwords set, so that we are not removing something that is valauable"
   ]
  },
  {
   "cell_type": "markdown",
   "id": "iN7a-dCSHMrp",
   "metadata": {
    "id": "iN7a-dCSHMrp"
   },
   "source": [
    "# Save Model"
   ]
  },
  {
   "cell_type": "code",
   "execution_count": 93,
   "id": "-F2wm8aSIZCd",
   "metadata": {
    "id": "-F2wm8aSIZCd"
   },
   "outputs": [],
   "source": [
    "# class CustomThresholdVotingClassifier(VotingClassifier):\n",
    "#   def __init__(self, estimators, voting='soft', threshold=0.5):\n",
    "#     super().__init__(estimators, voting=voting)\n",
    "#     self.threshold = threshold\n",
    "\n",
    "#   def predict(self, X):\n",
    "#     # predicted probabilities from each clf\n",
    "#     probas = np.column_stack([estimator.predict_proba(X)[:, 1] for estimator in self.estimators])\n",
    "#     # average probability for each\n",
    "#     avg_proba = np.mean(probas, axis=1)\n",
    "#     # on custom threshold\n",
    "#     predictions = (avg_proba >= self.threshold).astype(int)\n",
    "#     return predictions\n",
    "\n",
    "# # Voting Clf with custom threshold\n",
    "# custom_threshold_voting_clf = CustomThresholdVotingClassifier(estimators=[best_voting_clf], threshold=0.26)\n",
    "\n",
    "# get_metrics(custom_threshold_voting_clf.predict(X_test))"
   ]
  },
  {
   "cell_type": "code",
   "execution_count": 49,
   "id": "elCn3Ajo5q7X",
   "metadata": {
    "id": "elCn3Ajo5q7X"
   },
   "outputs": [],
   "source": [
    "from joblib import dump"
   ]
  },
  {
   "cell_type": "code",
   "execution_count": 52,
   "id": "HBwqHSHrHPUd",
   "metadata": {
    "colab": {
     "base_uri": "https://localhost:8080/"
    },
    "id": "HBwqHSHrHPUd",
    "outputId": "247bf8f6-9605-4817-c86d-08064c4e4f03"
   },
   "outputs": [
    {
     "data": {
      "text/plain": [
       "['/home/shreya/simple_comp_clf/models/sc_v1.joblib']"
      ]
     },
     "execution_count": 52,
     "metadata": {},
     "output_type": "execute_result"
    }
   ],
   "source": [
    "dump(best_voting_clf, current_directory+'/models/sc_v1.joblib')"
   ]
  },
  {
   "cell_type": "code",
   "execution_count": 53,
   "id": "IhsRf3Gpblez",
   "metadata": {
    "colab": {
     "base_uri": "https://localhost:8080/"
    },
    "id": "IhsRf3Gpblez",
    "outputId": "460a8a0d-1d07-4b1f-f91a-fe1280aff8ef"
   },
   "outputs": [
    {
     "data": {
      "text/plain": [
       "['/home/shreya/simple_comp_clf/vectorizers/tfidf_vectorizer.joblib']"
      ]
     },
     "execution_count": 53,
     "metadata": {},
     "output_type": "execute_result"
    }
   ],
   "source": [
    "dump(vectorizer, current_directory+'/vectorizers/tfidf_vectorizer.joblib')"
   ]
  },
  {
   "cell_type": "markdown",
   "id": "NMN0afNNUilU",
   "metadata": {
    "id": "NMN0afNNUilU"
   },
   "source": [
    "# Predict"
   ]
  },
  {
   "cell_type": "code",
   "execution_count": 96,
   "id": "lo0xi6IXUh9P",
   "metadata": {
    "colab": {
     "base_uri": "https://localhost:8080/"
    },
    "id": "lo0xi6IXUh9P",
    "outputId": "1f18b2a6-c70d-46ae-fd70-9c14229dc926"
   },
   "outputs": [
    {
     "data": {
      "text/plain": [
       "array([0, 0, 0, 0, 1, 1])"
      ]
     },
     "execution_count": 96,
     "metadata": {},
     "output_type": "execute_result"
    }
   ],
   "source": [
    "new_text = ['Patients with relapsed or refractory advanced solid malignancies (diagnosed by histology or cytology detection).\t',\n",
    "            'PS score 0-2, KPS score ≥60;',\n",
    "            'Accepts Healthy Volunteers: No\t',\n",
    "            'Estimated life expectancy > 12 weeks deemed by investigator',\n",
    "            'There is no active pulmonary infection, and the oxygen saturation during air inhalation is more than 92%;\t',\n",
    "            '<p>B-cell ALL</p><ul>\\n<li>\\n<p>Relapsed disease that is CD123 positive and CD19 negative/dim or patients otherwise ineligible for CD19 directed therapies including</p>\\n<ul>\\n<li>Patients in 2nd or greater relapse</li>\\n<li>Patients with relapse after allogeneic HSCT</li>\\n</ul>\\n</li>\\n<li>Refractory disease that is CD123 positive and CD19 negative/dim or patients otherwise ineligible for CD19 directed therapies</li>\\n</ul>']\n",
    "new_text_tfidf = vectorizer.transform(new_text)\n",
    "predictions = best_voting_clf.predict(new_text_tfidf)\n",
    "predictions"
   ]
  },
  {
   "cell_type": "code",
   "execution_count": null,
   "id": "8RWgHPPJOMUZ",
   "metadata": {
    "id": "8RWgHPPJOMUZ"
   },
   "outputs": [],
   "source": []
  }
 ],
 "metadata": {
  "colab": {
   "provenance": []
  },
  "kernelspec": {
   "display_name": "Python 3 (ipykernel)",
   "language": "python",
   "name": "python3"
  },
  "language_info": {
   "codemirror_mode": {
    "name": "ipython",
    "version": 3
   },
   "file_extension": ".py",
   "mimetype": "text/x-python",
   "name": "python",
   "nbconvert_exporter": "python",
   "pygments_lexer": "ipython3",
   "version": "3.10.12"
  }
 },
 "nbformat": 4,
 "nbformat_minor": 5
}
